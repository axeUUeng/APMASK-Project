{
 "cells": [
  {
   "cell_type": "markdown",
   "metadata": {},
   "source": [
    "# Q10"
   ]
  },
  {
   "cell_type": "code",
   "execution_count": 2,
   "metadata": {},
   "outputs": [],
   "source": [
    "import pandas as pd\n",
    "import numpy as np\n",
    "import scipy.stats as stats\n",
    "import seaborn as sns\n",
    "import matplotlib.pyplot as plt\n",
    "from tqdm import tqdm"
   ]
  },
  {
   "cell_type": "code",
   "execution_count": 4,
   "metadata": {},
   "outputs": [],
   "source": [
    "def get_posterior(initial_point, num_samples, y, beta_inv, m_s, sigma_s):\n",
    "    # Produce a posteroir from Gibbs sampling\n",
    "\n",
    "    point = np.array(initial_point)\n",
    "    samples = np.empty([num_samples+1, 2]) \n",
    "    samples[0] = point\n",
    "    A = np.array([[1, -1]])\n",
    "    \n",
    "    for i in range(num_samples):\n",
    "        s1_sample, s2_sample = samples[i]\n",
    "        if y==1:\n",
    "            t = stats.truncnorm.rvs(a=0, b=np.inf, loc=(s1_sample - s2_sample), scale=np.sqrt(beta_inv))  # p(t|s1, s2, y)\n",
    "        elif y==-1:\n",
    "            t = stats.truncnorm.rvs(a=-np.inf, b=0, loc=(s1_sample - s2_sample), scale=np.sqrt(beta_inv))\n",
    "            \n",
    "        S = np.linalg.inv(np.linalg.inv(sigma_s) + (beta_inv)**(-1) * (A.T @ A))\n",
    "        m = S @ (np.linalg.inv(sigma_s) @ m_s + beta_inv**(-1) * A.T * t)\n",
    "\n",
    "        point = np.random.multivariate_normal(m.ravel(), S)\n",
    "        samples[i+1] = point\n",
    "\n",
    "    return m[0][0], m[1][0], S[0,0], S[1,1], point"
   ]
  },
  {
   "cell_type": "code",
   "execution_count": 5,
   "metadata": {},
   "outputs": [],
   "source": [
    "def prediction(mu_s, sigma_s, beta_inv):\n",
    "    A = np.array([[1, -1]])\n",
    "    mu_t = A @ mu_s\n",
    "    sigma_t = beta_inv + A @ sigma_s @ A.T\n",
    "    p = stats.norm.cdf(0, loc=mu_t, scale=np.sqrt(sigma_t))\n",
    "    return -1 if p > 0.5 else 1\n",
    "    "
   ]
  },
  {
   "cell_type": "code",
   "execution_count": 6,
   "metadata": {},
   "outputs": [
    {
     "name": "stdout",
     "output_type": "stream",
     "text": [
      "   yyyy-mm-dd  HH:MM     team1     team2  score1  score2\n",
      "0  2018-08-18  18:00    Chievo  Juventus       2       3\n",
      "1  2018-08-18  20:30     Lazio    Napoli       1       2\n",
      "2  2018-08-19  18:00    Torino      Roma       0       1\n",
      "3  2018-08-19  20:30  Sassuolo     Inter       1       0\n",
      "4  2018-08-19  20:30     Parma   Udinese       2       2\n"
     ]
    }
   ],
   "source": [
    "serie_A_data = pd.read_csv('SerieA.csv', delimiter=',')\n",
    "print(serie_A_data.head())"
   ]
  },
  {
   "cell_type": "code",
   "execution_count": 3,
   "metadata": {},
   "outputs": [
    {
     "name": "stdout",
     "output_type": "stream",
     "text": [
      "   HomeTeam  AwayTeam  FTHG  FTAG\n",
      "0  Juventus  Cagliari     3     0\n",
      "1    Verona    Napoli     1     3\n",
      "2  Atalanta      Roma     0     1\n",
      "3   Bologna    Torino     1     1\n",
      "4   Crotone     Milan     0     3\n"
     ]
    }
   ],
   "source": [
    "serie_A_data_2 = pd.read_csv('season-1718.csv', delimiter=',')\n",
    "serie_A_data_2 = serie_A_data_2[['HomeTeam', 'AwayTeam', 'FTHG', 'FTAG']]\n",
    "print(serie_A_data_2.head())"
   ]
  },
  {
   "cell_type": "code",
   "execution_count": 7,
   "metadata": {},
   "outputs": [
    {
     "name": "stderr",
     "output_type": "stream",
     "text": [
      "/var/folders/fr/89zpsdcj7lbc3bh8rqrwwt180000gn/T/ipykernel_75992/1920162694.py:3: FutureWarning: The frame.append method is deprecated and will be removed from pandas in a future version. Use pandas.concat instead.\n",
      "  new_data = serie_A_data.append(data)\n"
     ]
    }
   ],
   "source": [
    "data = serie_A_data_2.rename(columns={\"HomeTeam\":\"team1\", \"AwayTeam\": \"team2\", \"FTHG\":\"score1\", \"FTAG\":\"score2\"}, errors=\"raise\" )\n",
    "data.head()\n",
    "new_data = serie_A_data.append(data)\n"
   ]
  },
  {
   "cell_type": "code",
   "execution_count": 8,
   "metadata": {},
   "outputs": [
    {
     "data": {
      "text/html": [
       "<div>\n",
       "<style scoped>\n",
       "    .dataframe tbody tr th:only-of-type {\n",
       "        vertical-align: middle;\n",
       "    }\n",
       "\n",
       "    .dataframe tbody tr th {\n",
       "        vertical-align: top;\n",
       "    }\n",
       "\n",
       "    .dataframe thead th {\n",
       "        text-align: right;\n",
       "    }\n",
       "</style>\n",
       "<table border=\"1\" class=\"dataframe\">\n",
       "  <thead>\n",
       "    <tr style=\"text-align: right;\">\n",
       "      <th></th>\n",
       "      <th>yyyy-mm-dd</th>\n",
       "      <th>HH:MM</th>\n",
       "      <th>team1</th>\n",
       "      <th>team2</th>\n",
       "      <th>score1</th>\n",
       "      <th>score2</th>\n",
       "    </tr>\n",
       "  </thead>\n",
       "  <tbody>\n",
       "    <tr>\n",
       "      <th>375</th>\n",
       "      <td>NaN</td>\n",
       "      <td>NaN</td>\n",
       "      <td>Milan</td>\n",
       "      <td>Fiorentina</td>\n",
       "      <td>5</td>\n",
       "      <td>1</td>\n",
       "    </tr>\n",
       "    <tr>\n",
       "      <th>376</th>\n",
       "      <td>NaN</td>\n",
       "      <td>NaN</td>\n",
       "      <td>Napoli</td>\n",
       "      <td>Crotone</td>\n",
       "      <td>2</td>\n",
       "      <td>1</td>\n",
       "    </tr>\n",
       "    <tr>\n",
       "      <th>377</th>\n",
       "      <td>NaN</td>\n",
       "      <td>NaN</td>\n",
       "      <td>Sassuolo</td>\n",
       "      <td>Roma</td>\n",
       "      <td>0</td>\n",
       "      <td>1</td>\n",
       "    </tr>\n",
       "    <tr>\n",
       "      <th>378</th>\n",
       "      <td>NaN</td>\n",
       "      <td>NaN</td>\n",
       "      <td>Spal</td>\n",
       "      <td>Sampdoria</td>\n",
       "      <td>3</td>\n",
       "      <td>1</td>\n",
       "    </tr>\n",
       "    <tr>\n",
       "      <th>379</th>\n",
       "      <td>NaN</td>\n",
       "      <td>NaN</td>\n",
       "      <td>Udinese</td>\n",
       "      <td>Bologna</td>\n",
       "      <td>1</td>\n",
       "      <td>0</td>\n",
       "    </tr>\n",
       "  </tbody>\n",
       "</table>\n",
       "</div>"
      ],
      "text/plain": [
       "    yyyy-mm-dd HH:MM     team1       team2  score1  score2\n",
       "375        NaN   NaN     Milan  Fiorentina       5       1\n",
       "376        NaN   NaN    Napoli     Crotone       2       1\n",
       "377        NaN   NaN  Sassuolo        Roma       0       1\n",
       "378        NaN   NaN      Spal   Sampdoria       3       1\n",
       "379        NaN   NaN   Udinese     Bologna       1       0"
      ]
     },
     "execution_count": 8,
     "metadata": {},
     "output_type": "execute_result"
    }
   ],
   "source": [
    "new_data.tail()"
   ]
  },
  {
   "cell_type": "code",
   "execution_count": null,
   "metadata": {},
   "outputs": [],
   "source": [
    "# Sets initial values\n",
    "beta_inv = 1\n",
    "num_samples = 2000\n",
    "mu_0 = 25.0\n",
    "sigma_0 = 40.0\n",
    "\n",
    "pred_wins_team1 = []\n",
    "true_wins_team1 = []\n",
    "\n",
    "unique_teams = pd.concat([new_data['team1'], new_data['team2']]).unique()\n",
    "skills_df = pd.DataFrame({'team': unique_teams,\n",
    "    'mu': [mu_0] * len(unique_teams),\n",
    "    'sigma': [sigma_0] * len(unique_teams),\n",
    "    's' : np.random.normal(mu_0, np.sqrt(sigma_0))\n",
    "})\n",
    "skills_history = {team: [(mu_0, sigma_0)] for team in list(unique_teams)}\n",
    "\n",
    "for _, match_instance in tqdm(new_data.iterrows(), total=new_data.shape[0], desc=\"Processing Matches\", leave=True, position=0, unit='match'):\n",
    "    team1, team2, score1, score2 = match_instance['team1'], match_instance['team2'], match_instance['score1'], match_instance['score2']\n",
    "    if score1 == score2:\n",
    "        continue\n",
    "    \n",
    "    mu1 = skills_df.loc[skills_df['team'] == team1, 'mu'].values[0]\n",
    "    sigma1 = skills_df.loc[skills_df['team'] == team1, 'sigma'].values[0]\n",
    "    mu2 = skills_df.loc[skills_df['team'] == team2, 'mu'].values[0]\n",
    "    sigma2 = skills_df.loc[skills_df['team'] == team2, 'sigma'].values[0]\n",
    "    s1 = skills_df.loc[skills_df['team'] == team1, 's'].values[0]\n",
    "    s2 = skills_df.loc[skills_df['team'] == team2, 's'].values[0]\n",
    "\n",
    "    y = 1 if score1 > score2 else -1\n",
    "\n",
    "    y_pred = prediction(mu_s = np.array([[mu1], [mu2]]),\n",
    "                        sigma_s = np.array([[sigma1, 0], [0, sigma2]]),\n",
    "                        beta_inv = beta_inv)\n",
    "    \n",
    "    pred_wins_team1.append(y_pred)\n",
    "    true_wins_team1.append(y)\n",
    "\n",
    "    mu1_new, mu2_new, sigma1_new, sigma2_new, point = get_posterior(initial_point = [s1, s2],\n",
    "                                                            num_samples = num_samples,\n",
    "                                                            y = y,\n",
    "                                                            beta_inv = beta_inv,\n",
    "                                                            m_s = np.array([[mu1], [mu2]]),\n",
    "                                                            sigma_s = np.array([[sigma1, 0], [0, sigma2]]))\n",
    "    \n",
    "    skills_history[team1].append((mu1_new, sigma1_new))\n",
    "    skills_history[team2].append((mu2_new, sigma2_new))\n",
    "\n",
    "    skills_df.loc[skills_df['team'] == team1, 'mu'] = mu1_new\n",
    "    skills_df.loc[skills_df['team'] == team1, 'sigma'] = sigma1_new\n",
    "    skills_df.loc[skills_df['team'] == team2, 'mu'] = mu2_new\n",
    "    skills_df.loc[skills_df['team'] == team2, 'sigma'] = sigma2_new\n",
    "    skills_df.loc[skills_df['team'] == team1, 's'] = point[0]\n",
    "    skills_df.loc[skills_df['team'] == team2, 's'] = point[1]\n",
    "\n",
    "r = sum(1 for pred, true in zip(pred_wins_team1, true_wins_team1) if pred == true)/len(true_wins_team1)\n",
    "print(f\"Prediction Rate = {round(r, 3)}\")\n"
   ]
  }
 ],
 "metadata": {
  "kernelspec": {
   "display_name": "Python 3.10.2 64-bit",
   "language": "python",
   "name": "python3"
  },
  "language_info": {
   "codemirror_mode": {
    "name": "ipython",
    "version": 3
   },
   "file_extension": ".py",
   "mimetype": "text/x-python",
   "name": "python",
   "nbconvert_exporter": "python",
   "pygments_lexer": "ipython3",
   "version": "3.10.2"
  },
  "orig_nbformat": 4,
  "vscode": {
   "interpreter": {
    "hash": "aee8b7b246df8f9039afb4144a1f6fd8d2ca17a180786b69acc140d282b71a49"
   }
  }
 },
 "nbformat": 4,
 "nbformat_minor": 2
}

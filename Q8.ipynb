{
 "cells": [
  {
   "cell_type": "code",
   "execution_count": 12,
   "metadata": {},
   "outputs": [],
   "source": [
    "import numpy as np\n",
    "import scipy.stats as stats\n",
    "import seaborn as sns\n",
    "import matplotlib.pyplot as plt\n",
    "import pandas as pd\n",
    "from tqdm import tqdm\n"
   ]
  },
  {
   "cell_type": "code",
   "execution_count": 13,
   "metadata": {},
   "outputs": [],
   "source": [
    "\n",
    "def multiplyGauss (m1 , s1 , m2 , s2):\n",
    "    s = 1 / (1/s1 + 1/s2)\n",
    "    m = (m1/s1 + m2/s2) * s\n",
    "    return m, s\n",
    "\n",
    "\n",
    "def divideGauss (m1 , s1 , m2 , s2):\n",
    "    m, s = multiplyGauss(m1 , s1 , m2 , -s2)\n",
    "    return m, s\n",
    "\n",
    "def truncGaussMM (a, b, m0 , s0):\n",
    "    a_scaled , b_scaled = (a - m0) / np.sqrt(s0), (b - m0) / np.sqrt(s0)\n",
    "    m = stats.truncnorm.mean(a_scaled , b_scaled , loc=m0 , scale=np.sqrt(s0))\n",
    "    s = stats.truncnorm.var(a_scaled , b_scaled , loc=m0 , scale=np.sqrt(s0))\n",
    "    return m, s"
   ]
  },
  {
   "cell_type": "code",
   "execution_count": 15,
   "metadata": {},
   "outputs": [
    {
     "name": "stdout",
     "output_type": "stream",
     "text": [
      "   yyyy-mm-dd  HH:MM     team1     team2  score1  score2\n",
      "0  2018-08-18  18:00    Chievo  Juventus       2       3\n",
      "1  2018-08-18  20:30     Lazio    Napoli       1       2\n",
      "2  2018-08-19  18:00    Torino      Roma       0       1\n",
      "3  2018-08-19  20:30  Sassuolo     Inter       1       0\n",
      "4  2018-08-19  20:30     Parma   Udinese       2       2\n"
     ]
    }
   ],
   "source": [
    "serie_A_data = pd.read_csv('Q5/SerieA.csv', delimiter=',')\n",
    "print(serie_A_data.head())"
   ]
  },
  {
   "cell_type": "code",
   "execution_count": 47,
   "metadata": {},
   "outputs": [],
   "source": [
    "def get_posterior(initial_point, num_samples, y, beta_inv, m_s, sigma_s):\n",
    "\n",
    "    point = np.array(initial_point)\n",
    "    samples = np.empty([num_samples+1, 2]) \n",
    "    samples[0] = point\n",
    "    A = np.array([[1, -1]])\n",
    "    \n",
    "    for i in range(num_samples):\n",
    "        s1_sample, s2_sample = samples[i]\n",
    "        if y==1:\n",
    "            t = stats.truncnorm.rvs(a=0, b=np.inf, loc=(s1_sample - s2_sample), scale=np.sqrt(beta_inv))  # p(t|s1, s2, y)\n",
    "        elif y==-1:\n",
    "            t = stats.truncnorm.rvs(a=-np.inf, b=0, loc=(s1_sample - s2_sample), scale=np.sqrt(beta_inv))\n",
    "            \n",
    "        S = np.linalg.inv(np.linalg.inv(sigma_s) + (beta_inv)**(-1) * (A.T @ A))\n",
    "        m = S @ (np.linalg.inv(sigma_s) @ m_s + beta_inv**(-1) * A.T * t)\n",
    "\n",
    "        point = np.random.multivariate_normal(m.ravel(), S)\n",
    "        samples[i+1] = point\n",
    "\n",
    "    return m[0][0], m[1][0], S[0,0], S[1,1], point"
   ]
  },
  {
   "cell_type": "code",
   "execution_count": 50,
   "metadata": {},
   "outputs": [
    {
     "data": {
      "image/png": "[encoded data removed]",
      "text/plain": [
       "<Figure size 720x432 with 1 Axes>"
      ]
     },
     "metadata": {},
     "output_type": "display_data"
    }
   ],
   "source": [
    "num_samples= 10000   # Nr of Gibbs samples\n",
    "\n",
    "# Prior parameters\n",
    "mu1 = 100\n",
    "sigma1 = 100\n",
    "\n",
    "mu2 = 100\n",
    "sigma2 = 100\n",
    "\n",
    "beta_inv = 1\n",
    "y = 1    # If y = 1, player 1 wins. y = -1, player 2 wins\n",
    "\n",
    "# Initial samples for Gibbs\n",
    "s1 = np.random.normal(mu1, np.sqrt(sigma1))\n",
    "s2 = np.random.normal(mu2, np.sqrt(sigma2))\n",
    "\n",
    "mu1_gibbs, mu2_gibbs, sigma1_gibbs, sigma2_gibbs, _ = get_posterior(initial_point = [s1, s2],\n",
    "                                                            num_samples = num_samples,\n",
    "                                                            y = y,\n",
    "                                                            beta_inv = beta_inv,\n",
    "                                                            m_s = np.array([[mu1], [mu2]]),\n",
    "                                                            sigma_s = np.array([[sigma1, 0], [0, sigma2]]))\n",
    "\n",
    "mt, st = truncGaussMM(0, np.inf, mu1-mu2 , beta_inv + sigma1 + sigma2) if y==1 else  truncGaussMM(-np.inf, 0, mu1-mu2 , beta_inv + sigma1 + sigma2)\n",
    "    \n",
    "m6, s6 = divideGauss(mt , st , mu1-mu2 , beta_inv + sigma1 + sigma2)\n",
    "\n",
    "m71, m72 = m6 + mu2, -m6 + mu1\n",
    "s71, s72 = beta_inv + sigma2 + s6, beta_inv + sigma1 + s6\n",
    "\n",
    "mu1_MP, sigma1_MP = multiplyGauss(mu1, sigma1, m71, s71)\n",
    "mu2_MP, sigma2_MP = multiplyGauss(mu2, sigma2, m72, s72)\n",
    "\n",
    "num_samples_hist = 400\n",
    "S1_gibbs_samples = np.random.normal(mu1_gibbs, np.sqrt(sigma1_gibbs), num_samples_hist)\n",
    "S2_gibbs_samples = np.random.normal(mu2_gibbs, np.sqrt(sigma2_gibbs), num_samples_hist)\n",
    "\n",
    "S1_MP_samples = np.random.normal(mu1_MP, np.sqrt(sigma1_MP), num_samples_hist)\n",
    "S2_MP_samples = np.random.normal(mu2_MP, np.sqrt(sigma2_MP), num_samples_hist)\n",
    "\n",
    "\n",
    "plt.figure(figsize=(10, 6))\n",
    "plt.hist(S1_gibbs_samples, density=True, label='S1 (Gibbs)', color = 'midnightblue')\n",
    "plt.hist(S2_gibbs_samples, density=True, label='S2 (Gibbs)', color = 'darkred')\n",
    "plt.hist(S1_MP_samples, density=True, label='S1 (MP)', color = 'blue')\n",
    "plt.hist(S2_MP_samples, density=True, label='S2 (MP)', color = 'red')\n",
    "\n",
    "\n",
    "plt.xlabel('Skill')\n",
    "plt.ylabel('Frequency')\n",
    "plt.title(f'Histogram')\n",
    "plt.legend()\n",
    "plt.show()\n"
   ]
  },
  {
   "cell_type": "code",
   "execution_count": null,
   "metadata": {},
   "outputs": [],
   "source": []
  },
  {
   "cell_type": "code",
   "execution_count": null,
   "metadata": {},
   "outputs": [],
   "source": []
  }
 ],
 "metadata": {
  "kernelspec": {
   "display_name": "Python 3",
   "language": "python",
   "name": "python3"
  },
  "language_info": {
   "codemirror_mode": {
    "name": "ipython",
    "version": 3
   },
   "file_extension": ".py",
   "mimetype": "text/x-python",
   "name": "python",
   "nbconvert_exporter": "python",
   "pygments_lexer": "ipython3",
   "version": "3.10.2"
  },
  "orig_nbformat": 4
 },
 "nbformat": 4,
 "nbformat_minor": 2
}
